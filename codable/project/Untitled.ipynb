{
 "cells": [
  {
   "cell_type": "code",
   "execution_count": 1,
   "metadata": {},
   "outputs": [
    {
     "data": {
      "text/html": [
       "<div id=\"glowscript\" class=\"glowscript\"></div>"
      ],
      "text/plain": [
       "<IPython.core.display.HTML object>"
      ]
     },
     "metadata": {},
     "output_type": "display_data"
    },
    {
     "data": {
      "application/javascript": [
       "if (typeof Jupyter !== \"undefined\") { window.__context = { glowscript_container: $(\"#glowscript\").removeAttr(\"id\")};}else{ element.textContent = ' ';}"
      ],
      "text/plain": [
       "<IPython.core.display.Javascript object>"
      ]
     },
     "metadata": {},
     "output_type": "display_data"
    },
    {
     "data": {
      "application/javascript": [
       "if (typeof Jupyter !== \"undefined\") {require.undef(\"nbextensions/vpython_libraries/glow.min\");}else{element.textContent = ' ';}"
      ],
      "text/plain": [
       "<IPython.core.display.Javascript object>"
      ]
     },
     "metadata": {},
     "output_type": "display_data"
    },
    {
     "data": {
      "application/javascript": [
       "if (typeof Jupyter !== \"undefined\") {require.undef(\"nbextensions/vpython_libraries/glowcomm\");}else{element.textContent = ' ';}"
      ],
      "text/plain": [
       "<IPython.core.display.Javascript object>"
      ]
     },
     "metadata": {},
     "output_type": "display_data"
    },
    {
     "data": {
      "application/javascript": [
       "if (typeof Jupyter !== \"undefined\") {require.undef(\"nbextensions/vpython_libraries/jquery-ui.custom.min\");}else{element.textContent = ' ';}"
      ],
      "text/plain": [
       "<IPython.core.display.Javascript object>"
      ]
     },
     "metadata": {},
     "output_type": "display_data"
    },
    {
     "data": {
      "application/javascript": [
       "if (typeof Jupyter !== \"undefined\") {require([\"nbextensions/vpython_libraries/glow.min\"], function(){console.log(\"GLOW LOADED\");});}else{element.textContent = ' ';}"
      ],
      "text/plain": [
       "<IPython.core.display.Javascript object>"
      ]
     },
     "metadata": {},
     "output_type": "display_data"
    },
    {
     "data": {
      "application/javascript": [
       "if (typeof Jupyter !== \"undefined\") {require([\"nbextensions/vpython_libraries/glowcomm\"], function(){console.log(\"GLOWCOMM LOADED\");});}else{element.textContent = ' ';}"
      ],
      "text/plain": [
       "<IPython.core.display.Javascript object>"
      ]
     },
     "metadata": {},
     "output_type": "display_data"
    },
    {
     "data": {
      "application/javascript": [
       "if (typeof Jupyter !== \"undefined\") {require([\"nbextensions/vpython_libraries/jquery-ui.custom.min\"], function(){console.log(\"JQUERY LOADED\");});}else{element.textContent = ' ';}"
      ],
      "text/plain": [
       "<IPython.core.display.Javascript object>"
      ]
     },
     "metadata": {},
     "output_type": "display_data"
    },
    {
     "ename": "KeyboardInterrupt",
     "evalue": "",
     "output_type": "error",
     "traceback": [
      "\u001b[1;31m---------------------------------------------------------------------------\u001b[0m",
      "\u001b[1;31mKeyboardInterrupt\u001b[0m                         Traceback (most recent call last)",
      "\u001b[1;32m<ipython-input-1-58a4b885883d>\u001b[0m in \u001b[0;36m<module>\u001b[1;34m\u001b[0m\n\u001b[0;32m    101\u001b[0m             \u001b[0matom\u001b[0m\u001b[1;33m.\u001b[0m\u001b[0mpos\u001b[0m \u001b[1;33m=\u001b[0m \u001b[0matom\u001b[0m\u001b[1;33m.\u001b[0m\u001b[0mpos\u001b[0m \u001b[1;33m+\u001b[0m \u001b[0matom\u001b[0m\u001b[1;33m.\u001b[0m\u001b[0mmomentum\u001b[0m\u001b[1;33m/\u001b[0m\u001b[0mm\u001b[0m\u001b[1;33m*\u001b[0m\u001b[0mdt\u001b[0m\u001b[1;33m\u001b[0m\u001b[0m\n\u001b[0;32m    102\u001b[0m     \u001b[1;32mfor\u001b[0m \u001b[0mspring\u001b[0m \u001b[1;32min\u001b[0m \u001b[0mc\u001b[0m\u001b[1;33m.\u001b[0m\u001b[0msprings\u001b[0m\u001b[1;33m:\u001b[0m\u001b[1;33m\u001b[0m\u001b[0m\n\u001b[1;32m--> 103\u001b[1;33m         \u001b[0mspring\u001b[0m\u001b[1;33m.\u001b[0m\u001b[0maxis\u001b[0m \u001b[1;33m=\u001b[0m \u001b[0mspring\u001b[0m\u001b[1;33m.\u001b[0m\u001b[0mend\u001b[0m\u001b[1;33m.\u001b[0m\u001b[0mpos\u001b[0m \u001b[1;33m-\u001b[0m \u001b[0mspring\u001b[0m\u001b[1;33m.\u001b[0m\u001b[0mstart\u001b[0m\u001b[1;33m.\u001b[0m\u001b[0mpos\u001b[0m\u001b[1;33m\u001b[0m\u001b[0m\n\u001b[0m\u001b[0;32m    104\u001b[0m         \u001b[0mL\u001b[0m \u001b[1;33m=\u001b[0m \u001b[0mvp\u001b[0m\u001b[1;33m.\u001b[0m\u001b[0mmag\u001b[0m\u001b[1;33m(\u001b[0m\u001b[0mspring\u001b[0m\u001b[1;33m.\u001b[0m\u001b[0maxis\u001b[0m\u001b[1;33m)\u001b[0m\u001b[1;33m\u001b[0m\u001b[0m\n\u001b[0;32m    105\u001b[0m         \u001b[0mspring\u001b[0m\u001b[1;33m.\u001b[0m\u001b[0maxis\u001b[0m \u001b[1;33m=\u001b[0m \u001b[0mspring\u001b[0m\u001b[1;33m.\u001b[0m\u001b[0maxis\u001b[0m\u001b[1;33m.\u001b[0m\u001b[0mnorm\u001b[0m\u001b[1;33m(\u001b[0m\u001b[1;33m)\u001b[0m\u001b[1;33m\u001b[0m\u001b[0m\n",
      "\u001b[1;32mc:\\users\\jason\\appdata\\local\\programs\\python\\python36\\lib\\site-packages\\vpython\\vpython.py\u001b[0m in \u001b[0;36maxis\u001b[1;34m(self, value)\u001b[0m\n\u001b[0;32m    762\u001b[0m     \u001b[1;33m@\u001b[0m\u001b[0maxis\u001b[0m\u001b[1;33m.\u001b[0m\u001b[0msetter\u001b[0m\u001b[1;33m\u001b[0m\u001b[0m\n\u001b[0;32m    763\u001b[0m     \u001b[1;32mdef\u001b[0m \u001b[0maxis\u001b[0m\u001b[1;33m(\u001b[0m\u001b[0mself\u001b[0m\u001b[1;33m,\u001b[0m\u001b[0mvalue\u001b[0m\u001b[1;33m)\u001b[0m\u001b[1;33m:\u001b[0m\u001b[1;33m\u001b[0m\u001b[0m\n\u001b[1;32m--> 764\u001b[1;33m         \u001b[0mself\u001b[0m\u001b[1;33m.\u001b[0m\u001b[0m_save_oldaxis\u001b[0m \u001b[1;33m=\u001b[0m \u001b[0madjust_up\u001b[0m\u001b[1;33m(\u001b[0m\u001b[0mself\u001b[0m\u001b[1;33m.\u001b[0m\u001b[0m_axis\u001b[0m\u001b[1;33m,\u001b[0m \u001b[0mvalue\u001b[0m\u001b[1;33m,\u001b[0m \u001b[0mself\u001b[0m\u001b[1;33m.\u001b[0m\u001b[0m_up\u001b[0m\u001b[1;33m,\u001b[0m \u001b[0mself\u001b[0m\u001b[1;33m.\u001b[0m\u001b[0m_save_oldaxis\u001b[0m\u001b[1;33m)\u001b[0m \u001b[1;31m# this sets self._axis and self._up\u001b[0m\u001b[1;33m\u001b[0m\u001b[0m\n\u001b[0m\u001b[0;32m    765\u001b[0m         \u001b[1;32mif\u001b[0m \u001b[1;32mnot\u001b[0m \u001b[0mself\u001b[0m\u001b[1;33m.\u001b[0m\u001b[0m_constructing\u001b[0m\u001b[1;33m:\u001b[0m\u001b[1;33m\u001b[0m\u001b[0m\n\u001b[0;32m    766\u001b[0m             \u001b[0mself\u001b[0m\u001b[1;33m.\u001b[0m\u001b[0maddattr\u001b[0m\u001b[1;33m(\u001b[0m\u001b[1;34m'axis'\u001b[0m\u001b[1;33m)\u001b[0m\u001b[1;33m\u001b[0m\u001b[0m\n",
      "\u001b[1;31mKeyboardInterrupt\u001b[0m: "
     ]
    }
   ],
   "source": [
    "\"\"\"\n",
    "check if functions function correctly before implementing GUI\n",
    "\"\"\"\n",
    "\n",
    "import numpy as np\n",
    "import math\n",
    "import vpython as vp\n",
    "\n",
    "# Bruce Sherwood\n",
    "\n",
    "N = 4 # N by N by N array of atoms\n",
    "# Surrounding the N**3 atoms is another layer of invisible fixed-position atoms\n",
    "# that provide stability to the lattice.\n",
    "k = 1\n",
    "m = 1\n",
    "spacing = 1\n",
    "atom_radius = 0.3*spacing\n",
    "L0 = spacing-1.8*atom_radius\n",
    "V0 = math.pi*(0.5*atom_radius)**2*L0 # initial volume of spring\n",
    "vp.scene.center = 0.5*(N-1)*vp.vector(1,1,1)\n",
    "dt = 0.04*(2*math.pi*math.sqrt(m/k))\n",
    "axes = [vp.vector(1,0,0), vp.vector(0,1,0), vp.vector(0,0,1)]\n",
    "\n",
    "vp.scene.caption= \"\"\"A model of a solid represented as atoms connected by interatomic bonds.\n",
    "\n",
    "To rotate \"camera\", drag with right button or Ctrl-drag.\n",
    "To zoom, drag with middle button or Alt/Option depressed, or use scroll wheel.\n",
    "  On a two-button mouse, middle is left + right.\n",
    "To pan left/right and up/down, Shift-drag.\n",
    "Touch screen: pinch/extend to zoom, swipe or two-finger rotate.\"\"\"\n",
    "\n",
    "class crystal:\n",
    "        \n",
    "    def __init__(self,  N, atom_radius, spacing, momentumRange ):\n",
    "        self.atoms = []\n",
    "        self.springs = []\n",
    "        \n",
    "        # Create (N+2)^3 atoms in a grid; the outermost atoms are fixed and invisible\n",
    "        for z in range(-1,N+1,1):\n",
    "            for y in range(-1,N+1,1):\n",
    "                for x in range(-1,N+1,1):\n",
    "                    atom = vp.sphere()\n",
    "                    atom.pos = vp.vector(x,y,z)*spacing\n",
    "                    atom.radius = atom_radius\n",
    "                    atom.color = vp.vector(0,0.58,0.69)\n",
    "                    if 0 <= x < N and 0 <= y < N and 0 <= z < N:\n",
    "                        p = vp.vec.random()\n",
    "                        atom.momentum = momentumRange*p\n",
    "                    else:\n",
    "                        atom.visible = False\n",
    "                        atom.momentum = vp.vec(0,0,0)\n",
    "                    atom.index = len(self.atoms)\n",
    "                    self.atoms.append( atom )\n",
    "        for atom in self.atoms:\n",
    "            if atom.visible:\n",
    "                if atom.pos.x == 0:\n",
    "                    self.make_spring(self.atoms[atom.index-1], atom, False)\n",
    "                    self.make_spring(atom, self.atoms[atom.index+1], True)\n",
    "                elif atom.pos.x == N-1:\n",
    "                    self.make_spring(atom, self.atoms[atom.index+1], False)\n",
    "                else:\n",
    "                    self.make_spring(atom, self.atoms[atom.index+1], True)\n",
    "\n",
    "                if atom.pos.y == 0:\n",
    "                    self.make_spring(self.atoms[atom.index-(N+2)], atom, False)\n",
    "                    self.make_spring(atom, self.atoms[atom.index+(N+2)], True)\n",
    "                elif atom.pos.y == N-1:\n",
    "                    self.make_spring(atom, self.atoms[atom.index+(N+2)], False)\n",
    "                else:\n",
    "                    self.make_spring(atom, self.atoms[atom.index+(N+2)], True)\n",
    "                    \n",
    "                if atom.pos.z == 0:\n",
    "                    self.make_spring(self.atoms[atom.index-(N+2)**2], atom, False)\n",
    "                    self.make_spring(atom, self.atoms[atom.index+(N+2)**2], True)\n",
    "                elif atom.pos.z == N-1:\n",
    "                    self.make_spring(atom, self.atoms[atom.index+(N+2)**2], False)\n",
    "                else:\n",
    "                    self.make_spring(atom, self.atoms[atom.index+(N+2)**2], True)\n",
    "    \n",
    "    # Create a grid of springs linking each atom to the adjacent atoms\n",
    "    # in each dimension, or to invisible motionless atoms\n",
    "    def make_spring(self, start, end, visible):\n",
    "        spring = vp.helix()\n",
    "        spring.pos = start.pos\n",
    "        spring.axis = end.pos-start.pos\n",
    "        spring.visible = visible\n",
    "        spring.thickness = 0.05\n",
    "        spring.radius = 0.5*atom_radius\n",
    "        spring.length = spacing\n",
    "        spring.start = start\n",
    "        spring.end = end\n",
    "        spring.color = vp.color.orange\n",
    "        self.springs.append(spring)\n",
    "\n",
    "c = crystal(N, atom_radius, spacing, 0.1*spacing*math.sqrt(k/m))\n",
    "\n",
    "while True:\n",
    "    vp.rate(60)\n",
    "    for atom in c.atoms:\n",
    "        if atom.visible:\n",
    "            atom.pos = atom.pos + atom.momentum/m*dt\n",
    "    for spring in c.springs:\n",
    "        spring.axis = spring.end.pos - spring.start.pos\n",
    "        L = vp.mag(spring.axis)\n",
    "        spring.axis = spring.axis.norm()\n",
    "        spring.pos = spring.start.pos+0.5*atom_radius*spring.axis\n",
    "        Ls = L-atom_radius\n",
    "        spring.length = Ls\n",
    "        Fdt = spring.axis * (k*dt * (1-spacing/L))\n",
    "        if spring.start.visible:\n",
    "            spring.start.momentum = spring.start.momentum + Fdt\n",
    "        if spring.end.visible:\n",
    "            spring.end.momentum = spring.end.momentum - Fdt\n",
    "\n"
   ]
  },
  {
   "cell_type": "code",
   "execution_count": 5,
   "metadata": {},
   "outputs": [],
   "source": [
    "from vpython import *\n",
    "box()\n"
   ]
  },
  {
   "cell_type": "code",
   "execution_count": null,
   "metadata": {},
   "outputs": [],
   "source": []
  }
 ],
 "metadata": {
  "kernelspec": {
   "display_name": "Python 3",
   "language": "python",
   "name": "python3"
  },
  "language_info": {
   "codemirror_mode": {
    "name": "ipython",
    "version": 3
   },
   "file_extension": ".py",
   "mimetype": "text/x-python",
   "name": "python",
   "nbconvert_exporter": "python",
   "pygments_lexer": "ipython3",
   "version": "3.6.6"
  }
 },
 "nbformat": 4,
 "nbformat_minor": 4
}
