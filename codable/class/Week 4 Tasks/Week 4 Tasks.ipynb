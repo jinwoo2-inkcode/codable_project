{
 "cells": [
  {
   "cell_type": "markdown",
   "metadata": {},
   "source": [
    "## Simple function"
   ]
  },
  {
   "cell_type": "code",
   "execution_count": 4,
   "metadata": {},
   "outputs": [
    {
     "name": "stdout",
     "output_type": "stream",
     "text": [
      "True\n",
      "True\n"
     ]
    }
   ],
   "source": [
    "# Write a function 'findMaxIter' that takes a list and returns the largest element in the list, iteratively\n",
    "# i.e. using for loop, while loop or list comprehension\n",
    "# For error handling: if the size of list is smaller than 1, return -1\n",
    "# TODO: Make the cell print 'True' for all cases\n",
    "\n",
    "# Your code goes below here\n",
    "def findMaxIter(l: list) -> int:\n",
    "    max = -1\n",
    "    for i in l:\n",
    "        if i > max:\n",
    "            max = i\n",
    "    return max\n",
    "\n",
    "            \n",
    "    \n",
    "    \n",
    "    \n",
    "    \n",
    "    \n",
    "    \n",
    "    \n",
    "    \n",
    "# Do not modify below!\n",
    "print(findMaxIter([]) == -1)\n",
    "import random\n",
    "l = [random.randint(0, 50) for i in range(100)]\n",
    "print(findMaxIter(l) == max(l))"
   ]
  },
  {
   "cell_type": "code",
   "execution_count": null,
   "metadata": {},
   "outputs": [],
   "source": []
  },
  {
   "cell_type": "code",
   "execution_count": null,
   "metadata": {},
   "outputs": [],
   "source": []
  },
  {
   "cell_type": "code",
   "execution_count": null,
   "metadata": {},
   "outputs": [],
   "source": []
  },
  {
   "cell_type": "code",
   "execution_count": 5,
   "metadata": {},
   "outputs": [
    {
     "name": "stdout",
     "output_type": "stream",
     "text": [
      "True\n",
      "True\n"
     ]
    }
   ],
   "source": [
    "# Write the function 'getLarger' that returns the larger of the input int a and b\n",
    "# If a and b are equal, return a\n",
    "# You do not have to think about error handling here\n",
    "# TODO: Make the cell print 'True' for all cases\n",
    "\n",
    "# Your code goes below here\n",
    "def getLarger(a: int, b: int) -> int:\n",
    "    return max(a,b)\n",
    "    \n",
    "    \n",
    "    \n",
    "    \n",
    "    \n",
    "    \n",
    "\n",
    "# Do not modify below:\n",
    "print(getLarger(-3, 5) == 5)\n",
    "print(getLarger(5, 5) == 5)"
   ]
  },
  {
   "cell_type": "markdown",
   "metadata": {},
   "source": [
    "## Recursion practice"
   ]
  },
  {
   "cell_type": "markdown",
   "metadata": {},
   "source": [
    "Now, using the 'getLarger' we have written above, let's write 'findMax' recursively.\n",
    "\n",
    "To give some hints, the simple (or *base*) case would be when the length of list is 1, in which the largest element is the only element.\n",
    "\n",
    "Otherwise, the function would return the **larger** of the first element of the list(i.e. `l[0]`) or the **maximum of the rest of the list(`l[1:]`)**.\n",
    "\n",
    "And how do we find the **larger** between two elements? We have just written the function that does so!"
   ]
  },
  {
   "cell_type": "code",
   "execution_count": 7,
   "metadata": {},
   "outputs": [
    {
     "name": "stdout",
     "output_type": "stream",
     "text": [
      "True\n",
      "True\n"
     ]
    }
   ],
   "source": [
    "# Write a function 'findMaxRecursive' that takes a list and returns the largest element in the list, recursively\n",
    "# For error handling: if the size of list is smaller than 1, return -1\n",
    "# TODO: Make the cell print 'True' for all cases\n",
    "\n",
    "# Your code goes below here\n",
    "def findMaxRecursive(l: list) -> int:\n",
    "    if len(l) == 0:\n",
    "        return -1\n",
    "    return max(l[0], findMaxRecursive(l[1:]))\n",
    "    \n",
    "    \n",
    "    \n",
    "    \n",
    "    \n",
    "    \n",
    "    \n",
    "\n",
    "# Do not modify below!\n",
    "print(findMaxRecursive([]) == -1)\n",
    "import random\n",
    "l = [random.randint(0, 50) for i in range(100)]\n",
    "print(findMaxRecursive(l) == max(l))"
   ]
  },
  {
   "cell_type": "code",
   "execution_count": null,
   "metadata": {},
   "outputs": [],
   "source": []
  },
  {
   "cell_type": "code",
   "execution_count": 8,
   "metadata": {},
   "outputs": [
    {
     "name": "stdout",
     "output_type": "stream",
     "text": [
      "Runtime for iterative findMax\n",
      "Wall time: 0 ns\n",
      "\n",
      "Runtime for recursive findMax\n",
      "Wall time: 2 ms\n"
     ]
    },
    {
     "data": {
      "text/plain": [
       "50"
      ]
     },
     "execution_count": 8,
     "metadata": {},
     "output_type": "execute_result"
    }
   ],
   "source": [
    "# Simply run this cell, and observe the runtime of the two functions\n",
    "\n",
    "import sys\n",
    "if sys.getrecursionlimit() < 3000: sys.setrecursionlimit(4000)\n",
    "\n",
    "l = [random.randint(0, 50) for i in range(500)]\n",
    "print(\"Runtime for iterative findMax\")\n",
    "%time findMaxIter(l)\n",
    "print(\"\\nRuntime for recursive findMax\")\n",
    "%time findMaxRecursive(l)"
   ]
  },
  {
   "cell_type": "code",
   "execution_count": null,
   "metadata": {},
   "outputs": [],
   "source": []
  },
  {
   "cell_type": "markdown",
   "metadata": {},
   "source": [
    "## So, why do we use it?"
   ]
  },
  {
   "cell_type": "markdown",
   "metadata": {},
   "source": [
    "As you can see from the output of the above cell, recursion is generally slower than iteration. In fact, look at the plot shwon below."
   ]
  },
  {
   "cell_type": "code",
   "execution_count": 9,
   "metadata": {},
   "outputs": [
    {
     "name": "stdout",
     "output_type": "stream",
     "text": [
      "2.88 µs ± 163 ns per loop (mean ± std. dev. of 10 runs, 5 loops each)\n",
      "63.9 µs ± 2.78 µs per loop (mean ± std. dev. of 10 runs, 5 loops each)\n",
      "5.11 µs ± 118 ns per loop (mean ± std. dev. of 10 runs, 5 loops each)\n",
      "169 µs ± 13 µs per loop (mean ± std. dev. of 10 runs, 5 loops each)\n",
      "7.41 µs ± 150 ns per loop (mean ± std. dev. of 10 runs, 5 loops each)\n",
      "302 µs ± 26.4 µs per loop (mean ± std. dev. of 10 runs, 5 loops each)\n",
      "9.82 µs ± 218 ns per loop (mean ± std. dev. of 10 runs, 5 loops each)\n",
      "427 µs ± 10.7 µs per loop (mean ± std. dev. of 10 runs, 5 loops each)\n",
      "11.8 µs ± 92.5 ns per loop (mean ± std. dev. of 10 runs, 5 loops each)\n",
      "657 µs ± 71.1 µs per loop (mean ± std. dev. of 10 runs, 5 loops each)\n",
      "14.7 µs ± 697 ns per loop (mean ± std. dev. of 10 runs, 5 loops each)\n",
      "1.51 ms ± 145 µs per loop (mean ± std. dev. of 10 runs, 5 loops each)\n",
      "17 µs ± 1.57 µs per loop (mean ± std. dev. of 10 runs, 5 loops each)\n",
      "1.92 ms ± 140 µs per loop (mean ± std. dev. of 10 runs, 5 loops each)\n",
      "19.5 µs ± 1.3 µs per loop (mean ± std. dev. of 10 runs, 5 loops each)\n",
      "2.32 ms ± 160 µs per loop (mean ± std. dev. of 10 runs, 5 loops each)\n",
      "21.1 µs ± 312 ns per loop (mean ± std. dev. of 10 runs, 5 loops each)\n",
      "2.99 ms ± 148 µs per loop (mean ± std. dev. of 10 runs, 5 loops each)\n",
      "23.4 µs ± 812 ns per loop (mean ± std. dev. of 10 runs, 5 loops each)\n",
      "3.75 ms ± 138 µs per loop (mean ± std. dev. of 10 runs, 5 loops each)\n",
      "25.9 µs ± 1.11 µs per loop (mean ± std. dev. of 10 runs, 5 loops each)\n",
      "4.87 ms ± 238 µs per loop (mean ± std. dev. of 10 runs, 5 loops each)\n",
      "27.8 µs ± 564 ns per loop (mean ± std. dev. of 10 runs, 5 loops each)\n",
      "5.53 ms ± 246 µs per loop (mean ± std. dev. of 10 runs, 5 loops each)\n",
      "30.1 µs ± 691 ns per loop (mean ± std. dev. of 10 runs, 5 loops each)\n",
      "6.45 ms ± 151 µs per loop (mean ± std. dev. of 10 runs, 5 loops each)\n",
      "32 µs ± 126 ns per loop (mean ± std. dev. of 10 runs, 5 loops each)\n",
      "8.11 ms ± 261 µs per loop (mean ± std. dev. of 10 runs, 5 loops each)\n",
      "34.8 µs ± 1.05 µs per loop (mean ± std. dev. of 10 runs, 5 loops each)\n",
      "9.26 ms ± 287 µs per loop (mean ± std. dev. of 10 runs, 5 loops each)\n",
      "36.7 µs ± 193 ns per loop (mean ± std. dev. of 10 runs, 5 loops each)\n",
      "11 ms ± 570 µs per loop (mean ± std. dev. of 10 runs, 5 loops each)\n",
      "42.4 µs ± 7.02 µs per loop (mean ± std. dev. of 10 runs, 5 loops each)\n",
      "11.2 ms ± 317 µs per loop (mean ± std. dev. of 10 runs, 5 loops each)\n",
      "45.8 µs ± 13.3 µs per loop (mean ± std. dev. of 10 runs, 5 loops each)\n",
      "13.3 ms ± 612 µs per loop (mean ± std. dev. of 10 runs, 5 loops each)\n",
      "46.3 µs ± 7.83 µs per loop (mean ± std. dev. of 10 runs, 5 loops each)\n",
      "14.2 ms ± 502 µs per loop (mean ± std. dev. of 10 runs, 5 loops each)\n",
      "47.5 µs ± 4.75 µs per loop (mean ± std. dev. of 10 runs, 5 loops each)\n",
      "17.3 ms ± 966 µs per loop (mean ± std. dev. of 10 runs, 5 loops each)\n",
      "47.9 µs ± 3.36 µs per loop (mean ± std. dev. of 10 runs, 5 loops each)\n",
      "20.5 ms ± 716 µs per loop (mean ± std. dev. of 10 runs, 5 loops each)\n",
      "49.9 µs ± 420 ns per loop (mean ± std. dev. of 10 runs, 5 loops each)\n",
      "22.9 ms ± 498 µs per loop (mean ± std. dev. of 10 runs, 5 loops each)\n",
      "51.1 µs ± 3.58 µs per loop (mean ± std. dev. of 10 runs, 5 loops each)\n",
      "21.3 ms ± 982 µs per loop (mean ± std. dev. of 10 runs, 5 loops each)\n",
      "54.7 µs ± 1.21 µs per loop (mean ± std. dev. of 10 runs, 5 loops each)\n",
      "25.3 ms ± 1.6 ms per loop (mean ± std. dev. of 10 runs, 5 loops each)\n",
      "59.7 µs ± 9.81 µs per loop (mean ± std. dev. of 10 runs, 5 loops each)\n",
      "26.5 ms ± 1.34 ms per loop (mean ± std. dev. of 10 runs, 5 loops each)\n",
      "59.3 µs ± 777 ns per loop (mean ± std. dev. of 10 runs, 5 loops each)\n",
      "29.1 ms ± 1.96 ms per loop (mean ± std. dev. of 10 runs, 5 loops each)\n",
      "68.2 µs ± 10.3 µs per loop (mean ± std. dev. of 10 runs, 5 loops each)\n",
      "29.3 ms ± 2.34 ms per loop (mean ± std. dev. of 10 runs, 5 loops each)\n",
      "64.5 µs ± 1.8 µs per loop (mean ± std. dev. of 10 runs, 5 loops each)\n",
      "33.1 ms ± 1.43 ms per loop (mean ± std. dev. of 10 runs, 5 loops each)\n",
      "81.8 µs ± 24.1 µs per loop (mean ± std. dev. of 10 runs, 5 loops each)\n",
      "37.2 ms ± 1.6 ms per loop (mean ± std. dev. of 10 runs, 5 loops each)\n"
     ]
    },
    {
     "data": {
      "text/plain": [
       "<matplotlib.legend.Legend at 0x225a844a5f8>"
      ]
     },
     "execution_count": 9,
     "metadata": {},
     "output_type": "execute_result"
    },
    {
     "data": {
      "image/png": "[encoded data removed]",
      "text/plain": [
       "<Figure size 1080x720 with 1 Axes>"
      ]
     },
     "metadata": {
      "needs_background": "light"
     },
     "output_type": "display_data"
    }
   ],
   "source": [
    "# Simply run this cell and observe the output plot.\n",
    "# If this cell returns an error, please contact me!\n",
    "import random\n",
    "\n",
    "iter_list = []\n",
    "rec_list = []\n",
    "size = []\n",
    "for i in range(100, 3000, 100):\n",
    "    size.append(i)\n",
    "    l = [random.randint(0, i) for i in range(i)]\n",
    "    temp = %timeit -n5 -r10 -o findMaxIter(l)\n",
    "    iter_list.append(temp.average)\n",
    "    temp = %timeit -n5 -r10 -o findMaxRecursive(l)\n",
    "    rec_list.append(temp.average)\n",
    "\n",
    "try:\n",
    "    import matplotlib.pyplot as plt\n",
    "except:\n",
    "    try:\n",
    "        ! pip install --user matplotlib\n",
    "        ! pip3 install --user matplotlib\n",
    "    except: \n",
    "        pass\n",
    "        \n",
    "import matplotlib.pyplot as plt\n",
    "plt.figure(figsize = (15,10))\n",
    "plt.plot(size, iter_list, label = \"Iterative findMax\")\n",
    "plt.plot(size, rec_list, label = \"Recursive findMax\")\n",
    "plt.xlabel(\"Size of the list\", fontsize = 15)\n",
    "plt.ylabel(\"Runtime(sec)\", fontsize = 15)\n",
    "plt.title(\"Runtime comparison of Iteration and Recursion\", fontsize = 18)\n",
    "plt.legend(fontsize = 15)"
   ]
  },
  {
   "cell_type": "markdown",
   "metadata": {},
   "source": [
    "You can see that the runtime of a recursive function grows exponentially, with the increase in size of the list. If so, why do we still use recursion?\n",
    "\n",
    "The biggest reason is because it makes the code simpler, as discussed in last meeting. Let's look at the image below.\n",
    "\n",
    "![Ackermann](Ackermann.png)\n",
    "\n",
    "The picture above represents the [Ackermann function](https://en.wikipedia.org/wiki/Ackermann_function).\n",
    "\n",
    "Let's try to write this using recursion."
   ]
  },
  {
   "cell_type": "code",
   "execution_count": 11,
   "metadata": {},
   "outputs": [
    {
     "name": "stdout",
     "output_type": "stream",
     "text": [
      "True\n",
      "True\n"
     ]
    }
   ],
   "source": [
    "# Write the 'Ackermann_recursive', based on the fuction description seen above.\n",
    "# The function takes two input integers, m and n, and returns an int\n",
    "# TODO: Make the cell print 'True' for all cases\n",
    "\n",
    "# Your code goes below here\n",
    "def Ackermann_recursive(m: int, n: int) -> int:\n",
    "    if m == 0:\n",
    "        return n+1\n",
    "    if m > 0 and n==0:\n",
    "        return Ackermann_recursive(m-1, 1)\n",
    "    if m>0 and n>0:\n",
    "        return Ackermann_recursive(m-1, Ackermann_recursive(m, n-1))\n",
    "    \n",
    "    \n",
    "    \n",
    "    \n",
    "    \n",
    "    \n",
    "    \n",
    "\n",
    "# Do not modify below:\n",
    "print(Ackermann_recursive(1, 2) == 4)\n",
    "print(Ackermann_recursive(3, 2) == 29)"
   ]
  },
  {
   "cell_type": "markdown",
   "metadata": {},
   "source": [
    "You can see that the Ackermann fuction can be written with recursion with just a few lines of code.\n",
    "However, let's try writing this iteratively. \n",
    "\n",
    "As writing this iteratively is bit challenging, I have provided the code for you."
   ]
  },
  {
   "cell_type": "code",
   "execution_count": 12,
   "metadata": {},
   "outputs": [
    {
     "name": "stdout",
     "output_type": "stream",
     "text": [
      "True\n",
      "True\n"
     ]
    }
   ],
   "source": [
    "# Simply run this cell\n",
    "\n",
    "def Ackermann_iterative(m: int, n: int) -> int:\n",
    "    mList = []\n",
    "    while(True):\n",
    "        if m == 0: \n",
    "            n += 1\n",
    "            if len(mList) == 0:\n",
    "                return n\n",
    "            else:\n",
    "                index = len(mList) - 1\n",
    "                m = mList[index]\n",
    "                del mList[index]\n",
    "        elif n == 0:\n",
    "            m -= 1\n",
    "            n = 1\n",
    "        else:\n",
    "            mList.append(m - 1)\n",
    "            n -= 1\n",
    "\n",
    "print(Ackermann_iterative(1, 2) == 4)\n",
    "print(Ackermann_iterative(3, 2) == 29)"
   ]
  },
  {
   "cell_type": "markdown",
   "metadata": {},
   "source": [
    "You can see that both `Ackermann_recursive` and `Ackermann_iterative` behaves the same. In fact, the [Church-Turing thesis](https://en.wikipedia.org/wiki/Church–Turing_thesis) proves that all iterative functions can be written recursively, and vice versa.\n",
    "\n",
    "However, `Ackermann_iterative` is very hard to understand in a glance, and also it is longer than `Ackermann_recursive`.\n",
    "\n",
    "Thus, we can see that recursion and iteration both possess pros and cons. Therefore, flexibly switching between recursion and iteration would be an important skill for a good programmer to possess."
   ]
  }
 ],
 "metadata": {
  "kernelspec": {
   "display_name": "Python 3",
   "language": "python",
   "name": "python3"
  },
  "language_info": {
   "codemirror_mode": {
    "name": "ipython",
    "version": 3
   },
   "file_extension": ".py",
   "mimetype": "text/x-python",
   "name": "python",
   "nbconvert_exporter": "python",
   "pygments_lexer": "ipython3",
   "version": "3.6.6"
  }
 },
 "nbformat": 4,
 "nbformat_minor": 4
}
