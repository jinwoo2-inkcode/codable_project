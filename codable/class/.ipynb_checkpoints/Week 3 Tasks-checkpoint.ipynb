{
 "cells": [
  {
   "cell_type": "markdown",
   "metadata": {},
   "source": [
    "## List Practice"
   ]
  },
  {
   "cell_type": "code",
   "execution_count": 4,
   "metadata": {},
   "outputs": [
    {
     "name": "stdout",
     "output_type": "stream",
     "text": [
      "[0, 1, 8, 2, 9, 2, 5, 6, 7, 1, 1, 1, 6, 7, 3, 9, 4, 1, 4, 2, 5, 9, 5, 4, 1, 2, 7, 3, 0, 7]\n"
     ]
    },
    {
     "data": {
      "text/plain": [
       "True"
      ]
     },
     "execution_count": 4,
     "metadata": {},
     "output_type": "execute_result"
    }
   ],
   "source": [
    "# Given the list 'l', which is consisted of 30 random numbers ranging from 0 to 10,\n",
    "# count the number of elements in 'l' that are smaller than 5 using the given variable 'count'\n",
    "# 'count' is initialized to 0\n",
    "# You can use any techniques we have discussed -- for loop, while loop, or list comprehension.\n",
    "# TODO: Make the cell print 'True'\n",
    "import random\n",
    "l = [random.randint(0, 10) for i in range(30)]\n",
    "print(l)\n",
    "count = 0\n",
    "# Your code goes below here\n",
    "\n",
    "for i in range(len(l)):\n",
    "    if l[i] < 5:\n",
    "        count += 1\n",
    "\n",
    "# Do not modify below!\n",
    "import numpy as np\n",
    "count == np.sum(np.array(l) < 5)"
   ]
  },
  {
   "cell_type": "code",
   "execution_count": null,
   "metadata": {},
   "outputs": [],
   "source": []
  },
  {
   "cell_type": "code",
   "execution_count": null,
   "metadata": {},
   "outputs": [],
   "source": []
  },
  {
   "cell_type": "code",
   "execution_count": null,
   "metadata": {},
   "outputs": [],
   "source": []
  },
  {
   "cell_type": "markdown",
   "metadata": {},
   "source": [
    "Now, this one gets a little bit trickier. You would remember discussing about a **nested list** from Week 2 -- a list that is consisted of lists. An example of a nested list would look like this: `[[1, 2], [3, 4], [5, 6]]`. To access a *list of list element* in the nested list, you would use the **index operator** (which we often refer to as the *square bracket* `[]`) as usual, just that you would use it twice instead of once.\n",
    "\n",
    "To be specific, lets name the list seen above as `nest_list`. To access the list `[3, 4]` in `nest_list`, the appropriate way would be `nest_list[1]`. Similarly, to access `5`, you would access it like this: `nested_list[2][0]`. Just like how you would modify a simple list, you can modify the nested list using multiple index operators as well."
   ]
  },
  {
   "cell_type": "markdown",
   "metadata": {},
   "source": [
    "Based on this fact, let's work on the task below.\n",
    "Below is the *pseudocode* for this task. If you are curious about what *pseudocode* is, please refer to this page: https://en.wikipedia.org/wiki/Pseudocode\n",
    "\n",
    "```\n",
    "for i in l:\n",
    "    if freq_list at the 0 index of i index list is None,\n",
    "        set it to i and increase the frequency by 1\n",
    "    else,\n",
    "        increase the frequency at the 1 index of i index of freq_list by 1\n",
    "```"
   ]
  },
  {
   "cell_type": "markdown",
   "metadata": {},
   "source": [
    "For better understanding, if `l = [0, 2, 3, 4, 3, 5, 4, 4, 1]`, `freq_list = [[0, 1], [1, 1], [2, 1], [3, 2], [4, 3], [5, 1]]` since 0, 1, 2, 3, 4, 5 each appears 1, 1, 1, 2, 3, 1 times, respectively, in `l`"
   ]
  },
  {
   "cell_type": "code",
   "execution_count": 7,
   "metadata": {},
   "outputs": [
    {
     "data": {
      "text/plain": [
       "True"
      ]
     },
     "execution_count": 7,
     "metadata": {},
     "output_type": "execute_result"
    }
   ],
   "source": [
    "# Given list 'l', which is declared in the above cell,\n",
    "# create a frequency list such that in each sublist of the frequency list, \n",
    "# at the first index stores the value of the element and at the second index stores the frequency of the value\n",
    "# frequency list is named 'freq_list', and it is guaranteed that max(l) <= len(freq_list)\n",
    "# TODO: Make the cell print 'True'\n",
    "# Hint: When comparing None, you can simply use the '==' operator. (ex: a == None)\n",
    "\n",
    "freq_list = [[None, 0] for _ in range(max(l) + 1)]\n",
    "# Your code goes below here\n",
    "\n",
    "for i in l:\n",
    "    for j in range(len(l)):\n",
    "        if j == i:\n",
    "            freq_list[j][1] += 1\n",
    "\n",
    "\n",
    "\n",
    "\n",
    "\n",
    "\n",
    "\n",
    "\n",
    "\n",
    "\n",
    "# Do not modify below!\n",
    "unique_elements, counts_elements = np.unique(l, return_counts=True)\n",
    "[i[1] for i in freq_list if i[1] > 0] == counts_elements.tolist()"
   ]
  },
  {
   "cell_type": "code",
   "execution_count": null,
   "metadata": {},
   "outputs": [],
   "source": []
  },
  {
   "cell_type": "code",
   "execution_count": null,
   "metadata": {},
   "outputs": [],
   "source": []
  },
  {
   "cell_type": "markdown",
   "metadata": {},
   "source": [
    "## Simple functions"
   ]
  },
  {
   "cell_type": "code",
   "execution_count": 9,
   "metadata": {},
   "outputs": [
    {
     "name": "stdout",
     "output_type": "stream",
     "text": [
      "True\n",
      "True\n",
      "True\n"
     ]
    }
   ],
   "source": [
    "# Write a function 'sumOrMult' that takes two input parameters, a and b,\n",
    "# and returns the sum of a and b if the difference between a and b is an even number,\n",
    "# and returns the multiple of a and b if the difference between a and b is an odd number\n",
    "# for error handling, if a is None, set it to 0\n",
    "# TODO: Make the cell print 'True' for all test cases\n",
    "\n",
    "# Your code goes below here\n",
    "def sumOrMult(a, b):\n",
    "    if a==None:\n",
    "        a=0\n",
    "    if (a-b)%2 == 0:\n",
    "        return a+b\n",
    "    elif(a-b)%2==1:\n",
    "        return a*b\n",
    "    return 0\n",
    "\n",
    "\n",
    "\n",
    "\n",
    "\n",
    "\n",
    "\n",
    "\n",
    "\n",
    "\n",
    "# Do not modify below!\n",
    "print(sumOrMult(2, 3) == 6)\n",
    "print(sumOrMult(5, 4) == 20)\n",
    "print(sumOrMult(None, 4) == 4)"
   ]
  },
  {
   "cell_type": "code",
   "execution_count": null,
   "metadata": {},
   "outputs": [],
   "source": []
  },
  {
   "cell_type": "code",
   "execution_count": null,
   "metadata": {},
   "outputs": [],
   "source": []
  },
  {
   "cell_type": "code",
   "execution_count": 12,
   "metadata": {},
   "outputs": [
    {
     "data": {
      "text/plain": [
       "True"
      ]
     },
     "execution_count": 12,
     "metadata": {},
     "output_type": "execute_result"
    }
   ],
   "source": [
    "# Write a function 'sumOrMultList' that takes a input parameter, 'l', which is a nested list,\n",
    "# calls sumOrMult() for index 0 and 1 for each sublist of 'l', append the returned values to a new list\n",
    "# and returns the new list\n",
    "# TODO: Make the cell print 'True'\n",
    "\n",
    "# Your code goes below here\n",
    "def sumOrMultList(l):\n",
    "    x=[]\n",
    "    for i in range(len(l)):\n",
    "        x.append(sumOrMult(l[i][0],l[i][1]))\n",
    "    return x\n",
    "\n",
    "\n",
    "\n",
    "\n",
    "\n",
    "\n",
    "\n",
    "\n",
    "\n",
    "\n",
    "\n",
    "# Do not modify below!\n",
    "sumOrMultList([[1, 6], [None, 2], [3, 5]]) == [6, 2, 8]"
   ]
  },
  {
   "cell_type": "code",
   "execution_count": null,
   "metadata": {},
   "outputs": [],
   "source": []
  },
  {
   "cell_type": "code",
   "execution_count": null,
   "metadata": {},
   "outputs": [],
   "source": []
  },
  {
   "cell_type": "code",
   "execution_count": null,
   "metadata": {},
   "outputs": [],
   "source": []
  },
  {
   "cell_type": "code",
   "execution_count": 13,
   "metadata": {},
   "outputs": [
    {
     "name": "stdout",
     "output_type": "stream",
     "text": [
      "[2, 6, 4, 2, 0, 0, 2, 4, 0, 0]\n"
     ]
    }
   ],
   "source": [
    "# call sumOrMultList on freq_list that you have created above, \n",
    "# compare the result to your freq_list and see if the result is reasonable\n",
    "\n",
    "# your code goes below here\n",
    "\n",
    "print(sumOrMultList(freq_list))\n",
    "\n",
    "\n",
    "\n",
    "\n",
    "\n",
    "\n",
    "\n"
   ]
  },
  {
   "cell_type": "code",
   "execution_count": null,
   "metadata": {},
   "outputs": [],
   "source": []
  }
 ],
 "metadata": {
  "kernelspec": {
   "display_name": "Python 3",
   "language": "python",
   "name": "python3"
  },
  "language_info": {
   "codemirror_mode": {
    "name": "ipython",
    "version": 3
   },
   "file_extension": ".py",
   "mimetype": "text/x-python",
   "name": "python",
   "nbconvert_exporter": "python",
   "pygments_lexer": "ipython3",
   "version": "3.6.6"
  }
 },
 "nbformat": 4,
 "nbformat_minor": 4
}
