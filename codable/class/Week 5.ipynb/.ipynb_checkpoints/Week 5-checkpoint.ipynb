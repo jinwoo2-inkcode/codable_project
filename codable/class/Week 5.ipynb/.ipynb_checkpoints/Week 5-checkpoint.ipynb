{
 "cells": [
  {
   "cell_type": "markdown",
   "metadata": {},
   "source": [
    "## Recursion contd."
   ]
  },
  {
   "cell_type": "code",
   "execution_count": 7,
   "metadata": {},
   "outputs": [],
   "source": [
    "# Recursive function to find the number of occurence of an element in a list\n",
    "def countOccurence(l: list , k: int) -> int:\n",
    "    if len(l) == 0: return 0\n",
    "    \n",
    "    if l[0] == k: return 1 + countOccurence(l[1:], k)\n",
    "    else: return 0 + countOccurence(l[1:], k)\n",
    "    "
   ]
  },
  {
   "cell_type": "code",
   "execution_count": 8,
   "metadata": {},
   "outputs": [
    {
     "name": "stdout",
     "output_type": "stream",
     "text": [
      "[8, 12, 12, 11, 10, 11, 9, 12, 4, 9, 9, 10, 8, 7, 10, 8, 8, 5, 11, 8]\n"
     ]
    },
    {
     "data": {
      "text/plain": [
       "3"
      ]
     },
     "execution_count": 8,
     "metadata": {},
     "output_type": "execute_result"
    }
   ],
   "source": [
    "import numpy as np\n",
    "l = np.random.normal(10, 2, 20).astype(int).tolist()\n",
    "print(l)\n",
    "countOccurence(l, 10)"
   ]
  },
  {
   "cell_type": "code",
   "execution_count": 11,
   "metadata": {},
   "outputs": [
    {
     "data": {
      "text/plain": [
       "32"
      ]
     },
     "execution_count": 11,
     "metadata": {},
     "output_type": "execute_result"
    }
   ],
   "source": [
    "# Exercise: write a recursive function that calculates exponentials\n",
    "# You can assume that exponential is always greater or equal to zero\n",
    "# power(2, 5) --> 32\n",
    "\n",
    "def power(base: int, exponential: int) -> int:\n",
    "    if base == 0:\n",
    "        if exponential == 0: return -1\n",
    "        else: return 0\n",
    "    \n",
    "    if exponential == 0: return 1\n",
    "    else: \n",
    "        return base * power(base, exponential -1)\n",
    "    \n",
    "power(2, 5)"
   ]
  },
  {
   "cell_type": "code",
   "execution_count": 12,
   "metadata": {},
   "outputs": [
    {
     "name": "stdout",
     "output_type": "stream",
     "text": [
      "[8, 12, 12, 11, 10, 11, 9, 12, 4, 9, 9, 10, 8, 7, 10, 8, 8, 5, 11, 8]\n"
     ]
    },
    {
     "data": {
      "text/plain": [
       "True"
      ]
     },
     "execution_count": 12,
     "metadata": {},
     "output_type": "execute_result"
    }
   ],
   "source": [
    "# Exercise: write a recursive funtion that checks if an element exists in the list\n",
    "\n",
    "def isIn(l: list, k: int) -> bool:\n",
    "    if len(l) == 0: return False\n",
    "    if l[0] == k: return True\n",
    "    return isIn(l[1:], k)\n",
    "\n",
    "print(l)\n",
    "isIn(l, 9)"
   ]
  },
  {
   "cell_type": "markdown",
   "metadata": {},
   "source": [
    "## Dictionary"
   ]
  },
  {
   "cell_type": "code",
   "execution_count": 17,
   "metadata": {},
   "outputs": [
    {
     "name": "stdout",
     "output_type": "stream",
     "text": [
      "True\n",
      "{'a': 1, 'b': 2, 'd': 5}\n",
      "'d' after insert:  {'a': 1, 'b': 2, 'd': 5, 'c': 3}\n",
      "'d' after update:  {'a': 1, 'b': 6, 'd': 5, 'c': 3}\n"
     ]
    }
   ],
   "source": [
    "# Creating an empty dictionary\n",
    "d = {}\n",
    "dd = dict()\n",
    "print(d == dd)\n",
    "\n",
    "\n",
    "d = {'a':1, 'b':2, 'd':5}\n",
    "print(d)\n",
    "\n",
    "# Inserting new key in a dictionary\n",
    "d.update({'c':3})\n",
    "print(\"'d' after insert: \", d)\n",
    "\n",
    "# Updating an existing key in a dictionary\n",
    "# All keys in a dictionary are unique\n",
    "d.update({'b':6})\n",
    "print(\"'d' after update: \", d)\n"
   ]
  },
  {
   "cell_type": "code",
   "execution_count": 19,
   "metadata": {},
   "outputs": [
    {
     "name": "stdout",
     "output_type": "stream",
     "text": [
      "CPU times: user 3 µs, sys: 0 ns, total: 3 µs\n",
      "Wall time: 5.25 µs\n",
      "CPU times: user 23.3 ms, sys: 146 µs, total: 23.5 ms\n",
      "Wall time: 23.5 ms\n"
     ]
    },
    {
     "data": {
      "text/plain": [
       "765432"
      ]
     },
     "execution_count": 19,
     "metadata": {},
     "output_type": "execute_result"
    }
   ],
   "source": [
    "# lookup time: dict < list\n",
    "d = {}\n",
    "l =[]\n",
    "for i in range(1000000):\n",
    "    d.update({i:i*100})\n",
    "    l.append([i, i*100])\n",
    "\n",
    "%time d[765432]\n",
    "%time l.index([765432, 76543200])"
   ]
  },
  {
   "cell_type": "code",
   "execution_count": 21,
   "metadata": {},
   "outputs": [
    {
     "name": "stdout",
     "output_type": "stream",
     "text": [
      "['a', 'b', 'd', 'c']\n",
      "[1, 3, 5, 4]\n"
     ]
    },
    {
     "data": {
      "text/plain": [
       "{'b': 3, 'd': 5, 'c': 4}"
      ]
     },
     "execution_count": 21,
     "metadata": {},
     "output_type": "execute_result"
    }
   ],
   "source": [
    "d = {'a':1, 'b':3, 'd':5, 'c':4}\n",
    "print(list(d.keys()))\n",
    "print(list(d.values()))\n",
    "\n",
    "# Removing an existing key in a dictionary\n",
    "# pop() returns the value of the key\n",
    "d.pop('a')\n",
    "d"
   ]
  },
  {
   "cell_type": "code",
   "execution_count": 23,
   "metadata": {},
   "outputs": [
    {
     "name": "stdout",
     "output_type": "stream",
     "text": [
      "[11, 9, 10, 11, 6, 9, 9, 10, 11, 8, 9, 9, 11, 8, 11, 10, 5, 10, 13, 11]\n",
      "{11: 6, 9: 5, 10: 4, 6: 1, 8: 2, 5: 1, 13: 1}\n",
      "True\n"
     ]
    }
   ],
   "source": [
    "# frequency_dict\n",
    "def freqDict(l: list) -> dict:\n",
    "    d = {}\n",
    "    for i in l:\n",
    "        if i not in d:\n",
    "            d.update({i:0})\n",
    "        d[i] += 1\n",
    "    return d\n",
    "\n",
    "l = np.random.normal(10, 2, 20).astype(int).tolist()\n",
    "print(l)\n",
    "d =freqDict(l)\n",
    "print(d)\n",
    "print(sum(list(d.values())) == len(l))"
   ]
  },
  {
   "cell_type": "code",
   "execution_count": 24,
   "metadata": {},
   "outputs": [],
   "source": [
    "# Exercise: write a function that returns the sum of the values of the common keys in the two dictionaries\n",
    "# a: {1:2, 3:5, 0:7}, b: {3:2, 1:5, 6:2} --> 14\n",
    "\n",
    "def commonKeySum(a:dict, b:dict) -> int:\n",
    "    a_keys = list(a.keys())\n",
    "    key_sum = 0\n",
    "    for i in a_keys:\n",
    "        if i in b:\n",
    "            key_sum += a[i]\n",
    "            key_sum += b[i]\n",
    "    return key_sum"
   ]
  },
  {
   "cell_type": "code",
   "execution_count": 25,
   "metadata": {},
   "outputs": [
    {
     "data": {
      "text/plain": [
       "14"
      ]
     },
     "execution_count": 25,
     "metadata": {},
     "output_type": "execute_result"
    }
   ],
   "source": [
    "a = {1:2, 3:5, 0:7}\n",
    "b = {3:2, 1:5, 6:2}\n",
    "commonKeySum(a, b)"
   ]
  }
 ],
 "metadata": {
  "kernelspec": {
   "display_name": "Python 3",
   "language": "python",
   "name": "python3"
  },
  "language_info": {
   "codemirror_mode": {
    "name": "ipython",
    "version": 3
   },
   "file_extension": ".py",
   "mimetype": "text/x-python",
   "name": "python",
   "nbconvert_exporter": "python",
   "pygments_lexer": "ipython3",
   "version": "3.6.6"
  }
 },
 "nbformat": 4,
 "nbformat_minor": 4
}
