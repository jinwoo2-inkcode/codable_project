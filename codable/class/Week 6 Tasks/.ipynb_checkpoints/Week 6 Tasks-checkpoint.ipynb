{
 "cells": [
  {
   "cell_type": "code",
   "execution_count": null,
   "metadata": {},
   "outputs": [],
   "source": [
    "# Simply run the cell below and import the dataset\n",
    "\n",
    "import pandas as pd\n",
    "import matplotlib.pyplot as plt\n",
    "apple = pd.read_csv(\"aapl.csv\")\n",
    "apple['Date'] = pd.to_datetime(apple['Date'])\n",
    "apple"
   ]
  },
  {
   "cell_type": "markdown",
   "metadata": {},
   "source": [
    "Let Moving Average to be defined as below:\n",
    "\n",
    "$MA_n = \\frac{1}{n}\\sum_{i=1}^{n}X_i$,\n",
    "\n",
    "where n is the number of observations in the time frame to be averaged, and X is the observation in the dataset.\n",
    "\n",
    "Based on this equation, complete  the `movAvg` function below.\n",
    "\n",
    "For your reference, please read [this page](https://www.investopedia.com/terms/m/movingaverage.asp) for better understanding of moving average."
   ]
  },
  {
   "cell_type": "code",
   "execution_count": null,
   "metadata": {},
   "outputs": [],
   "source": [
    "# movAvg takes 'l', which is pandas Series, and 'n', an integer, as two parameters.\n",
    "# Returns: A moving averaged list of 'l'\n",
    "# For index < n - 1, l[index] = average from l[0] to l[index]\n",
    "# Else, l[index] = average from l[index - n + 1] to l[index]\n",
    "# Note that for colon operator, end is non-inclusive! \n",
    "# TODO: Make the cell print 'True' for all test cases\n",
    "\n",
    "# Your code goes below here!\n",
    "import statistics as stt\n",
    "\n",
    "def movAvg(l: pd.Series, n: int) -> list:\n",
    "    result = []\n",
    "    for i in range(len(l)):\n",
    "        if i < n-1:\n",
    "            result.append(stt.mean(l[:i+1]))\n",
    "        else:\n",
    "            result.append(stt.mean(l[i-n+1:i+1]))\n",
    "    return result\n",
    "\n",
    "\n",
    "\n",
    "\n",
    "\n",
    "\n",
    "\n",
    "\n",
    "\n",
    "\n",
    "\n",
    "\n",
    "\n",
    "# Do not modify below!\n",
    "ret = movAvg(apple['Close'], 7)\n",
    "print(ret[5] == sum(apple['Close'].iloc[:6])/6)\n",
    "print(ret[5])\n",
    "print(sum(apple['Close'].iloc[:6])/6)\n",
    "\n",
    "print(ret[7] == apple['Close'].rolling(7).mean().iloc[7])\n",
    "print(ret[7])\n",
    "print(apple['Close'].rolling(7).mean().iloc[7])\n"
   ]
  },
  {
   "cell_type": "code",
   "execution_count": null,
   "metadata": {},
   "outputs": [],
   "source": [
    "# Using the 'movAvg' written above, create a 30-days moving averaged data of apple['Close']\n",
    "# Based on the returned data, create a new column in apple titled 'CloseMovAvg'\n",
    "# TODO: Make the cell print 'True' for all test cases\n",
    "\n",
    "# Your code goes below here!\n",
    "\n",
    "a_close = apple['Close'].to_list()\n",
    "a_close = [movAvg(apple['Close'],i+1) for i in range(len(a_close))]\n",
    "apple['CloseMovAvg'] = a_close\n",
    "\n",
    "\n",
    "# Do not modify below!\n",
    "print(round(apple['CloseMovAvg'].iloc[100], 5) == round(apple['Close'].rolling(30).mean().iloc[100], 5))\n",
    "print(round(apple['CloseMovAvg'].iloc[100], 5))\n",
    "print(round(apple['Close'].rolling(30).mean().iloc[100], 5))"
   ]
  },
  {
   "cell_type": "code",
   "execution_count": null,
   "metadata": {},
   "outputs": [],
   "source": [
    "# If you have not installed 'ipympl' before, this cell will restart your kernel.\n",
    "# If so, please restart the kernel and run all the cells above again.\n",
    "\n",
    "try:\n",
    "    import ipympl\n",
    "except:\n",
    "    !pip install ipympl\n",
    "    try:\n",
    "        !pip3 install ipympl\n",
    "    except: pass\n",
    "    import os\n",
    "    os._exit(00)"
   ]
  },
  {
   "cell_type": "code",
   "execution_count": null,
   "metadata": {},
   "outputs": [],
   "source": [
    "# Set the figsize as (10, 5)\n",
    "# Create a plot with x = 'Date' and y = 'CloseMovAvg', and label it as 'MovAvg'\n",
    "# Create a plot with x = 'Date' and y = 'Close', and label it as 'Close'\n",
    "# Set x label, y label and title of the graph accordingly\n",
    "# Show legend\n",
    "# TODO: Create a grapth with two plots and axes, graph titles\n",
    "%matplotlib widget\n",
    "\n",
    "# Your code goes below here!\n",
    "\n",
    "\n",
    "\n",
    "\n",
    "\n",
    "\n",
    "\n",
    "\n"
   ]
  },
  {
   "cell_type": "code",
   "execution_count": null,
   "metadata": {},
   "outputs": [],
   "source": [
    "# Create a function that takes two pandas Series, 'date' and 'data', as inputs\n",
    "# And returns a dictionary thats keys are months and values are average data for each months\n",
    "# for 'date' and 'data', same index refers to the data from the same date\n",
    "# i.e. if date.iloc[0] is 2000-01-01, data.iloc[0] is the data in 2000-01-01\n",
    "# TODO: Make the cell print 'True' for all test cases\n",
    "# Hint: to retrieve a month from pd.Timestamp object, use '.month'\n",
    "# i.e. apple['Date'].iloc[0].month returns 10\n",
    "\n",
    "# Your code goes below here!\n",
    "def monthAvgDict(date: pd.Series, data: pd.Series) -> dict:\n",
    "    return {}\n",
    "\n",
    "\n",
    "\n",
    "\n",
    "\n",
    "\n",
    "\n",
    "\n",
    "\n",
    "\n",
    "# Do not modify below!\n",
    "print(monthAvgDict(pd.Series([pd.Timestamp(2000, 1, 1) if i % 2 == 0 else pd.Timestamp(2000, 2, 1) for i in range(10)]), pd.Series([i for i in range(1,11)]))[1] == 5)\n",
    "print(len(monthAvgDict(apple['Date'], apple['Close'])) == 12)"
   ]
  },
  {
   "cell_type": "markdown",
   "metadata": {},
   "source": [
    "Now, based on the `monthAvgDict` we have created above, lets observe how the average stock price of Apple differ by month.\n",
    "\n",
    "Based on the data returned from `monthAvgDict`, we will create a bar chart.\n",
    "\n",
    "To read more about the bar chart in matplotlib, please refer to [this page](https://pythonbasics.org/matplotlib-bar-chart/)."
   ]
  },
  {
   "cell_type": "code",
   "execution_count": null,
   "metadata": {},
   "outputs": [],
   "source": [
    "# pass 'apple['Date']' and 'apple['Close'] to 'monthAvgDict' created above, \n",
    "# and create two lists, 'month' and 'avg_close' based on the returned dictionary\n",
    "# Using two lists, graph a bar plot of the average closing price of Apple by month.\n",
    "# Set the figsize as (10, 5)\n",
    "# Set x label, y label and title of the graph accordingly\n",
    "# TODO: Create a bar plot with axes, graph titles\n",
    "\n",
    "# Your code goes below here!\n",
    "\n",
    "\n",
    "\n",
    "\n",
    "\n",
    "\n",
    "\n",
    "\n"
   ]
  }
 ],
 "metadata": {
  "kernelspec": {
   "display_name": "Python 3",
   "language": "python",
   "name": "python3"
  },
  "language_info": {
   "codemirror_mode": {
    "name": "ipython",
    "version": 3
   },
   "file_extension": ".py",
   "mimetype": "text/x-python",
   "name": "python",
   "nbconvert_exporter": "python",
   "pygments_lexer": "ipython3",
   "version": "3.6.6"
  }
 },
 "nbformat": 4,
 "nbformat_minor": 4
}
